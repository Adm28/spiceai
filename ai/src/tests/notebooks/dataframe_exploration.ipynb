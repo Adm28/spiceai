{
 "cells": [
  {
   "cell_type": "code",
   "execution_count": 1,
   "id": "e62d6c04-202c-4dda-83db-c7b162b7e85a",
   "metadata": {},
   "outputs": [],
   "source": [
    "import pandas as pd\n",
    "import numpy as np"
   ]
  },
  {
   "cell_type": "code",
   "execution_count": 2,
   "id": "3a19b603-0bb4-4ef6-b359-6523aa3badf2",
   "metadata": {},
   "outputs": [],
   "source": [
    "df = pd.read_csv(\"./data.csv\")\n",
    "df[\"time\"] = pd.to_datetime(df[\"time\"], unit=\"s\")\n",
    "df[\"coinbase_btcusd_price\"] = pd.to_numeric(df[\"coinbase_btcusd_price\"])\n",
    "df[\"local_portfolio_usd_balance\"] = pd.to_numeric(df[\"local_portfolio_usd_balance\"])\n",
    "df = df.set_index(\"time\")"
   ]
  },
  {
   "cell_type": "code",
   "execution_count": 3,
   "id": "1c15d1d0-7428-4725-b7fe-39a66f5ad50e",
   "metadata": {},
   "outputs": [
    {
     "data": {
      "text/html": [
       "<div>\n",
       "<style scoped>\n",
       "    .dataframe tbody tr th:only-of-type {\n",
       "        vertical-align: middle;\n",
       "    }\n",
       "\n",
       "    .dataframe tbody tr th {\n",
       "        vertical-align: top;\n",
       "    }\n",
       "\n",
       "    .dataframe thead th {\n",
       "        text-align: right;\n",
       "    }\n",
       "</style>\n",
       "<table border=\"1\" class=\"dataframe\">\n",
       "  <thead>\n",
       "    <tr style=\"text-align: right;\">\n",
       "      <th></th>\n",
       "      <th>local_portfolio_usd_balance</th>\n",
       "      <th>local_portfolio_btc_balance</th>\n",
       "      <th>coinbase_btcusd_price</th>\n",
       "    </tr>\n",
       "    <tr>\n",
       "      <th>time</th>\n",
       "      <th></th>\n",
       "      <th></th>\n",
       "      <th></th>\n",
       "    </tr>\n",
       "  </thead>\n",
       "  <tbody>\n",
       "    <tr>\n",
       "      <th>2021-07-19 12:24:40</th>\n",
       "      <td>100000.0</td>\n",
       "      <td>0.0</td>\n",
       "      <td>31232.709091</td>\n",
       "    </tr>\n",
       "    <tr>\n",
       "      <th>2021-07-19 12:24:50</th>\n",
       "      <td>100000.0</td>\n",
       "      <td>0.0</td>\n",
       "      <td>31249.587143</td>\n",
       "    </tr>\n",
       "    <tr>\n",
       "      <th>2021-07-19 12:25:00</th>\n",
       "      <td>100000.0</td>\n",
       "      <td>0.0</td>\n",
       "      <td>31251.882353</td>\n",
       "    </tr>\n",
       "    <tr>\n",
       "      <th>2021-07-19 12:25:10</th>\n",
       "      <td>100000.0</td>\n",
       "      <td>0.0</td>\n",
       "      <td>31232.918182</td>\n",
       "    </tr>\n",
       "    <tr>\n",
       "      <th>2021-07-19 12:25:20</th>\n",
       "      <td>100000.0</td>\n",
       "      <td>0.0</td>\n",
       "      <td>31229.156923</td>\n",
       "    </tr>\n",
       "    <tr>\n",
       "      <th>2021-07-19 12:25:30</th>\n",
       "      <td>100000.0</td>\n",
       "      <td>0.0</td>\n",
       "      <td>31230.817778</td>\n",
       "    </tr>\n",
       "    <tr>\n",
       "      <th>2021-07-19 12:25:40</th>\n",
       "      <td>100000.0</td>\n",
       "      <td>0.0</td>\n",
       "      <td>31229.688000</td>\n",
       "    </tr>\n",
       "    <tr>\n",
       "      <th>2021-07-19 12:25:50</th>\n",
       "      <td>100000.0</td>\n",
       "      <td>0.0</td>\n",
       "      <td>31223.926364</td>\n",
       "    </tr>\n",
       "    <tr>\n",
       "      <th>2021-07-19 12:26:00</th>\n",
       "      <td>100000.0</td>\n",
       "      <td>0.0</td>\n",
       "      <td>31214.111875</td>\n",
       "    </tr>\n",
       "    <tr>\n",
       "      <th>2021-07-19 12:26:10</th>\n",
       "      <td>100000.0</td>\n",
       "      <td>0.0</td>\n",
       "      <td>31215.271250</td>\n",
       "    </tr>\n",
       "    <tr>\n",
       "      <th>2021-07-19 12:26:20</th>\n",
       "      <td>100000.0</td>\n",
       "      <td>0.0</td>\n",
       "      <td>31212.456364</td>\n",
       "    </tr>\n",
       "    <tr>\n",
       "      <th>2021-07-19 12:26:30</th>\n",
       "      <td>100000.0</td>\n",
       "      <td>0.0</td>\n",
       "      <td>31212.456250</td>\n",
       "    </tr>\n",
       "    <tr>\n",
       "      <th>2021-07-19 12:26:40</th>\n",
       "      <td>100000.0</td>\n",
       "      <td>0.0</td>\n",
       "      <td>31222.471250</td>\n",
       "    </tr>\n",
       "    <tr>\n",
       "      <th>2021-07-19 12:26:50</th>\n",
       "      <td>100000.0</td>\n",
       "      <td>0.0</td>\n",
       "      <td>31224.571579</td>\n",
       "    </tr>\n",
       "    <tr>\n",
       "      <th>2021-07-19 12:27:00</th>\n",
       "      <td>100000.0</td>\n",
       "      <td>0.0</td>\n",
       "      <td>31223.700769</td>\n",
       "    </tr>\n",
       "    <tr>\n",
       "      <th>2021-07-19 12:27:10</th>\n",
       "      <td>100000.0</td>\n",
       "      <td>0.0</td>\n",
       "      <td>31216.573889</td>\n",
       "    </tr>\n",
       "    <tr>\n",
       "      <th>2021-07-19 12:27:20</th>\n",
       "      <td>100000.0</td>\n",
       "      <td>0.0</td>\n",
       "      <td>31223.651667</td>\n",
       "    </tr>\n",
       "    <tr>\n",
       "      <th>2021-07-19 12:27:30</th>\n",
       "      <td>100000.0</td>\n",
       "      <td>0.0</td>\n",
       "      <td>31225.188571</td>\n",
       "    </tr>\n",
       "    <tr>\n",
       "      <th>2021-07-19 12:27:40</th>\n",
       "      <td>100000.0</td>\n",
       "      <td>0.0</td>\n",
       "      <td>31222.940000</td>\n",
       "    </tr>\n",
       "    <tr>\n",
       "      <th>2021-07-19 12:27:50</th>\n",
       "      <td>100000.0</td>\n",
       "      <td>0.0</td>\n",
       "      <td>31223.278571</td>\n",
       "    </tr>\n",
       "    <tr>\n",
       "      <th>2021-07-19 12:28:00</th>\n",
       "      <td>100000.0</td>\n",
       "      <td>0.0</td>\n",
       "      <td>31225.012222</td>\n",
       "    </tr>\n",
       "    <tr>\n",
       "      <th>2021-07-19 12:28:10</th>\n",
       "      <td>100000.0</td>\n",
       "      <td>0.0</td>\n",
       "      <td>31224.792500</td>\n",
       "    </tr>\n",
       "    <tr>\n",
       "      <th>2021-07-19 12:28:20</th>\n",
       "      <td>100000.0</td>\n",
       "      <td>0.0</td>\n",
       "      <td>31229.456667</td>\n",
       "    </tr>\n",
       "    <tr>\n",
       "      <th>2021-07-19 12:28:30</th>\n",
       "      <td>100000.0</td>\n",
       "      <td>0.0</td>\n",
       "      <td>31237.051111</td>\n",
       "    </tr>\n",
       "    <tr>\n",
       "      <th>2021-07-19 12:28:40</th>\n",
       "      <td>100000.0</td>\n",
       "      <td>0.0</td>\n",
       "      <td>31244.267778</td>\n",
       "    </tr>\n",
       "    <tr>\n",
       "      <th>2021-07-19 12:28:50</th>\n",
       "      <td>100000.0</td>\n",
       "      <td>0.0</td>\n",
       "      <td>31244.265000</td>\n",
       "    </tr>\n",
       "    <tr>\n",
       "      <th>2021-07-19 12:29:00</th>\n",
       "      <td>100000.0</td>\n",
       "      <td>0.0</td>\n",
       "      <td>31240.976000</td>\n",
       "    </tr>\n",
       "    <tr>\n",
       "      <th>2021-07-19 12:29:10</th>\n",
       "      <td>100000.0</td>\n",
       "      <td>0.0</td>\n",
       "      <td>31232.241250</td>\n",
       "    </tr>\n",
       "    <tr>\n",
       "      <th>2021-07-19 12:29:20</th>\n",
       "      <td>100000.0</td>\n",
       "      <td>0.0</td>\n",
       "      <td>31228.210000</td>\n",
       "    </tr>\n",
       "    <tr>\n",
       "      <th>2021-07-19 12:29:30</th>\n",
       "      <td>100000.0</td>\n",
       "      <td>0.0</td>\n",
       "      <td>31231.485455</td>\n",
       "    </tr>\n",
       "    <tr>\n",
       "      <th>2021-07-19 12:29:40</th>\n",
       "      <td>100000.0</td>\n",
       "      <td>0.0</td>\n",
       "      <td>31228.780000</td>\n",
       "    </tr>\n",
       "    <tr>\n",
       "      <th>2021-07-19 12:29:50</th>\n",
       "      <td>100000.0</td>\n",
       "      <td>0.0</td>\n",
       "      <td>31229.997778</td>\n",
       "    </tr>\n",
       "    <tr>\n",
       "      <th>2021-07-19 12:30:00</th>\n",
       "      <td>100000.0</td>\n",
       "      <td>0.0</td>\n",
       "      <td>31229.954286</td>\n",
       "    </tr>\n",
       "    <tr>\n",
       "      <th>2021-07-19 12:30:10</th>\n",
       "      <td>100000.0</td>\n",
       "      <td>0.0</td>\n",
       "      <td>31207.763651</td>\n",
       "    </tr>\n",
       "    <tr>\n",
       "      <th>2021-07-19 12:30:20</th>\n",
       "      <td>100000.0</td>\n",
       "      <td>0.0</td>\n",
       "      <td>31187.065556</td>\n",
       "    </tr>\n",
       "    <tr>\n",
       "      <th>2021-07-19 12:30:30</th>\n",
       "      <td>100000.0</td>\n",
       "      <td>0.0</td>\n",
       "      <td>31202.949565</td>\n",
       "    </tr>\n",
       "    <tr>\n",
       "      <th>2021-07-19 12:30:40</th>\n",
       "      <td>100000.0</td>\n",
       "      <td>0.0</td>\n",
       "      <td>31203.676000</td>\n",
       "    </tr>\n",
       "    <tr>\n",
       "      <th>2021-07-19 12:30:50</th>\n",
       "      <td>100000.0</td>\n",
       "      <td>0.0</td>\n",
       "      <td>31193.947419</td>\n",
       "    </tr>\n",
       "    <tr>\n",
       "      <th>2021-07-19 12:31:00</th>\n",
       "      <td>100000.0</td>\n",
       "      <td>0.0</td>\n",
       "      <td>31198.839091</td>\n",
       "    </tr>\n",
       "    <tr>\n",
       "      <th>2021-07-19 12:31:10</th>\n",
       "      <td>100000.0</td>\n",
       "      <td>0.0</td>\n",
       "      <td>31166.879444</td>\n",
       "    </tr>\n",
       "    <tr>\n",
       "      <th>2021-07-19 12:31:20</th>\n",
       "      <td>100000.0</td>\n",
       "      <td>0.0</td>\n",
       "      <td>31106.090073</td>\n",
       "    </tr>\n",
       "    <tr>\n",
       "      <th>2021-07-19 12:31:30</th>\n",
       "      <td>100000.0</td>\n",
       "      <td>0.0</td>\n",
       "      <td>31120.469286</td>\n",
       "    </tr>\n",
       "    <tr>\n",
       "      <th>2021-07-19 12:31:40</th>\n",
       "      <td>100000.0</td>\n",
       "      <td>0.0</td>\n",
       "      <td>31127.459474</td>\n",
       "    </tr>\n",
       "    <tr>\n",
       "      <th>2021-07-19 12:31:50</th>\n",
       "      <td>100000.0</td>\n",
       "      <td>0.0</td>\n",
       "      <td>31118.449167</td>\n",
       "    </tr>\n",
       "    <tr>\n",
       "      <th>2021-07-19 12:32:00</th>\n",
       "      <td>100000.0</td>\n",
       "      <td>0.0</td>\n",
       "      <td>31123.060370</td>\n",
       "    </tr>\n",
       "    <tr>\n",
       "      <th>2021-07-19 12:32:10</th>\n",
       "      <td>100000.0</td>\n",
       "      <td>0.0</td>\n",
       "      <td>31133.140000</td>\n",
       "    </tr>\n",
       "    <tr>\n",
       "      <th>2021-07-19 12:32:20</th>\n",
       "      <td>100000.0</td>\n",
       "      <td>0.0</td>\n",
       "      <td>31124.023684</td>\n",
       "    </tr>\n",
       "    <tr>\n",
       "      <th>2021-07-19 12:32:30</th>\n",
       "      <td>100000.0</td>\n",
       "      <td>0.0</td>\n",
       "      <td>31123.479762</td>\n",
       "    </tr>\n",
       "    <tr>\n",
       "      <th>2021-07-19 12:32:40</th>\n",
       "      <td>100000.0</td>\n",
       "      <td>0.0</td>\n",
       "      <td>31122.878000</td>\n",
       "    </tr>\n",
       "    <tr>\n",
       "      <th>2021-07-19 12:32:50</th>\n",
       "      <td>100000.0</td>\n",
       "      <td>0.0</td>\n",
       "      <td>31111.502754</td>\n",
       "    </tr>\n",
       "    <tr>\n",
       "      <th>2021-07-19 12:33:00</th>\n",
       "      <td>100000.0</td>\n",
       "      <td>0.0</td>\n",
       "      <td>31103.211053</td>\n",
       "    </tr>\n",
       "    <tr>\n",
       "      <th>2021-07-19 12:33:10</th>\n",
       "      <td>100000.0</td>\n",
       "      <td>0.0</td>\n",
       "      <td>31122.582903</td>\n",
       "    </tr>\n",
       "    <tr>\n",
       "      <th>2021-07-19 12:33:20</th>\n",
       "      <td>100000.0</td>\n",
       "      <td>0.0</td>\n",
       "      <td>31136.449677</td>\n",
       "    </tr>\n",
       "    <tr>\n",
       "      <th>2021-07-19 12:33:30</th>\n",
       "      <td>100000.0</td>\n",
       "      <td>0.0</td>\n",
       "      <td>31142.228333</td>\n",
       "    </tr>\n",
       "    <tr>\n",
       "      <th>2021-07-19 12:33:40</th>\n",
       "      <td>100000.0</td>\n",
       "      <td>0.0</td>\n",
       "      <td>31137.710286</td>\n",
       "    </tr>\n",
       "    <tr>\n",
       "      <th>2021-07-19 12:33:50</th>\n",
       "      <td>100000.0</td>\n",
       "      <td>0.0</td>\n",
       "      <td>31123.343636</td>\n",
       "    </tr>\n",
       "    <tr>\n",
       "      <th>2021-07-19 12:34:00</th>\n",
       "      <td>100000.0</td>\n",
       "      <td>0.0</td>\n",
       "      <td>31110.618929</td>\n",
       "    </tr>\n",
       "  </tbody>\n",
       "</table>\n",
       "</div>"
      ],
      "text/plain": [
       "                     local_portfolio_usd_balance  local_portfolio_btc_balance  \\\n",
       "time                                                                            \n",
       "2021-07-19 12:24:40                     100000.0                          0.0   \n",
       "2021-07-19 12:24:50                     100000.0                          0.0   \n",
       "2021-07-19 12:25:00                     100000.0                          0.0   \n",
       "2021-07-19 12:25:10                     100000.0                          0.0   \n",
       "2021-07-19 12:25:20                     100000.0                          0.0   \n",
       "2021-07-19 12:25:30                     100000.0                          0.0   \n",
       "2021-07-19 12:25:40                     100000.0                          0.0   \n",
       "2021-07-19 12:25:50                     100000.0                          0.0   \n",
       "2021-07-19 12:26:00                     100000.0                          0.0   \n",
       "2021-07-19 12:26:10                     100000.0                          0.0   \n",
       "2021-07-19 12:26:20                     100000.0                          0.0   \n",
       "2021-07-19 12:26:30                     100000.0                          0.0   \n",
       "2021-07-19 12:26:40                     100000.0                          0.0   \n",
       "2021-07-19 12:26:50                     100000.0                          0.0   \n",
       "2021-07-19 12:27:00                     100000.0                          0.0   \n",
       "2021-07-19 12:27:10                     100000.0                          0.0   \n",
       "2021-07-19 12:27:20                     100000.0                          0.0   \n",
       "2021-07-19 12:27:30                     100000.0                          0.0   \n",
       "2021-07-19 12:27:40                     100000.0                          0.0   \n",
       "2021-07-19 12:27:50                     100000.0                          0.0   \n",
       "2021-07-19 12:28:00                     100000.0                          0.0   \n",
       "2021-07-19 12:28:10                     100000.0                          0.0   \n",
       "2021-07-19 12:28:20                     100000.0                          0.0   \n",
       "2021-07-19 12:28:30                     100000.0                          0.0   \n",
       "2021-07-19 12:28:40                     100000.0                          0.0   \n",
       "2021-07-19 12:28:50                     100000.0                          0.0   \n",
       "2021-07-19 12:29:00                     100000.0                          0.0   \n",
       "2021-07-19 12:29:10                     100000.0                          0.0   \n",
       "2021-07-19 12:29:20                     100000.0                          0.0   \n",
       "2021-07-19 12:29:30                     100000.0                          0.0   \n",
       "2021-07-19 12:29:40                     100000.0                          0.0   \n",
       "2021-07-19 12:29:50                     100000.0                          0.0   \n",
       "2021-07-19 12:30:00                     100000.0                          0.0   \n",
       "2021-07-19 12:30:10                     100000.0                          0.0   \n",
       "2021-07-19 12:30:20                     100000.0                          0.0   \n",
       "2021-07-19 12:30:30                     100000.0                          0.0   \n",
       "2021-07-19 12:30:40                     100000.0                          0.0   \n",
       "2021-07-19 12:30:50                     100000.0                          0.0   \n",
       "2021-07-19 12:31:00                     100000.0                          0.0   \n",
       "2021-07-19 12:31:10                     100000.0                          0.0   \n",
       "2021-07-19 12:31:20                     100000.0                          0.0   \n",
       "2021-07-19 12:31:30                     100000.0                          0.0   \n",
       "2021-07-19 12:31:40                     100000.0                          0.0   \n",
       "2021-07-19 12:31:50                     100000.0                          0.0   \n",
       "2021-07-19 12:32:00                     100000.0                          0.0   \n",
       "2021-07-19 12:32:10                     100000.0                          0.0   \n",
       "2021-07-19 12:32:20                     100000.0                          0.0   \n",
       "2021-07-19 12:32:30                     100000.0                          0.0   \n",
       "2021-07-19 12:32:40                     100000.0                          0.0   \n",
       "2021-07-19 12:32:50                     100000.0                          0.0   \n",
       "2021-07-19 12:33:00                     100000.0                          0.0   \n",
       "2021-07-19 12:33:10                     100000.0                          0.0   \n",
       "2021-07-19 12:33:20                     100000.0                          0.0   \n",
       "2021-07-19 12:33:30                     100000.0                          0.0   \n",
       "2021-07-19 12:33:40                     100000.0                          0.0   \n",
       "2021-07-19 12:33:50                     100000.0                          0.0   \n",
       "2021-07-19 12:34:00                     100000.0                          0.0   \n",
       "\n",
       "                     coinbase_btcusd_price  \n",
       "time                                        \n",
       "2021-07-19 12:24:40           31232.709091  \n",
       "2021-07-19 12:24:50           31249.587143  \n",
       "2021-07-19 12:25:00           31251.882353  \n",
       "2021-07-19 12:25:10           31232.918182  \n",
       "2021-07-19 12:25:20           31229.156923  \n",
       "2021-07-19 12:25:30           31230.817778  \n",
       "2021-07-19 12:25:40           31229.688000  \n",
       "2021-07-19 12:25:50           31223.926364  \n",
       "2021-07-19 12:26:00           31214.111875  \n",
       "2021-07-19 12:26:10           31215.271250  \n",
       "2021-07-19 12:26:20           31212.456364  \n",
       "2021-07-19 12:26:30           31212.456250  \n",
       "2021-07-19 12:26:40           31222.471250  \n",
       "2021-07-19 12:26:50           31224.571579  \n",
       "2021-07-19 12:27:00           31223.700769  \n",
       "2021-07-19 12:27:10           31216.573889  \n",
       "2021-07-19 12:27:20           31223.651667  \n",
       "2021-07-19 12:27:30           31225.188571  \n",
       "2021-07-19 12:27:40           31222.940000  \n",
       "2021-07-19 12:27:50           31223.278571  \n",
       "2021-07-19 12:28:00           31225.012222  \n",
       "2021-07-19 12:28:10           31224.792500  \n",
       "2021-07-19 12:28:20           31229.456667  \n",
       "2021-07-19 12:28:30           31237.051111  \n",
       "2021-07-19 12:28:40           31244.267778  \n",
       "2021-07-19 12:28:50           31244.265000  \n",
       "2021-07-19 12:29:00           31240.976000  \n",
       "2021-07-19 12:29:10           31232.241250  \n",
       "2021-07-19 12:29:20           31228.210000  \n",
       "2021-07-19 12:29:30           31231.485455  \n",
       "2021-07-19 12:29:40           31228.780000  \n",
       "2021-07-19 12:29:50           31229.997778  \n",
       "2021-07-19 12:30:00           31229.954286  \n",
       "2021-07-19 12:30:10           31207.763651  \n",
       "2021-07-19 12:30:20           31187.065556  \n",
       "2021-07-19 12:30:30           31202.949565  \n",
       "2021-07-19 12:30:40           31203.676000  \n",
       "2021-07-19 12:30:50           31193.947419  \n",
       "2021-07-19 12:31:00           31198.839091  \n",
       "2021-07-19 12:31:10           31166.879444  \n",
       "2021-07-19 12:31:20           31106.090073  \n",
       "2021-07-19 12:31:30           31120.469286  \n",
       "2021-07-19 12:31:40           31127.459474  \n",
       "2021-07-19 12:31:50           31118.449167  \n",
       "2021-07-19 12:32:00           31123.060370  \n",
       "2021-07-19 12:32:10           31133.140000  \n",
       "2021-07-19 12:32:20           31124.023684  \n",
       "2021-07-19 12:32:30           31123.479762  \n",
       "2021-07-19 12:32:40           31122.878000  \n",
       "2021-07-19 12:32:50           31111.502754  \n",
       "2021-07-19 12:33:00           31103.211053  \n",
       "2021-07-19 12:33:10           31122.582903  \n",
       "2021-07-19 12:33:20           31136.449677  \n",
       "2021-07-19 12:33:30           31142.228333  \n",
       "2021-07-19 12:33:40           31137.710286  \n",
       "2021-07-19 12:33:50           31123.343636  \n",
       "2021-07-19 12:34:00           31110.618929  "
      ]
     },
     "execution_count": 3,
     "metadata": {},
     "output_type": "execute_result"
    }
   ],
   "source": [
    "df.ffill(inplace=True)\n",
    "df"
   ]
  },
  {
   "cell_type": "code",
   "execution_count": 4,
   "id": "0b508411-7769-4c37-968c-fdf06a9628e9",
   "metadata": {},
   "outputs": [],
   "source": [
    "new_data = pd.read_csv(\"./update_data.csv\")\n",
    "new_data[\"time\"] = pd.to_datetime(new_data[\"time\"], unit=\"s\")\n",
    "new_data = new_data.set_index(\"time\")"
   ]
  },
  {
   "cell_type": "code",
   "execution_count": 5,
   "id": "4990dcb4-49c4-4492-8549-35f393d9cc0d",
   "metadata": {},
   "outputs": [],
   "source": [
    "df = df.combine_first(new_data)"
   ]
  },
  {
   "cell_type": "code",
   "execution_count": 6,
   "id": "367b9bcc-65cb-4aeb-90c8-a116464cbd83",
   "metadata": {},
   "outputs": [],
   "source": [
    "update = pd.DataFrame({ \"time\": [pd.to_datetime(1626698300, unit=\"s\")], \"local_portfolio_usd_balance\": [1000] })\n",
    "update = update.set_index(\"time\")\n",
    "\n",
    "df = df.combine_first(update).resample(\"10s\").mean()"
   ]
  },
  {
   "cell_type": "code",
   "execution_count": 7,
   "id": "94a664ba-00b2-47c7-80da-8cf7433d1057",
   "metadata": {},
   "outputs": [
    {
     "data": {
      "text/plain": [
       "83"
      ]
     },
     "execution_count": 7,
     "metadata": {},
     "output_type": "execute_result"
    }
   ],
   "source": [
    "len(df)"
   ]
  },
  {
   "cell_type": "code",
   "execution_count": 8,
   "id": "fd68ea91-6fe3-436e-a31e-4b7003fe6697",
   "metadata": {},
   "outputs": [
    {
     "data": {
      "text/plain": [
       "coinbase_btcusd_price           31249.587143\n",
       "local_portfolio_btc_balance         0.000000\n",
       "local_portfolio_usd_balance    100000.000000\n",
       "Name: 2021-07-19 12:24:50, dtype: float64"
      ]
     },
     "execution_count": 8,
     "metadata": {},
     "output_type": "execute_result"
    }
   ],
   "source": [
    "key = dict(df.iloc[0: 10])[\"coinbase_btcusd_price\"].keys()[0] + pd.to_timedelta(11, unit=\"S\")\n",
    "df.iloc[df.index.get_loc(key, \"ffill\")]"
   ]
  },
  {
   "cell_type": "code",
   "execution_count": 9,
   "id": "62b124b0-2331-4608-8197-6323a3b5e7d7",
   "metadata": {},
   "outputs": [
    {
     "data": {
      "text/html": [
       "<div>\n",
       "<style scoped>\n",
       "    .dataframe tbody tr th:only-of-type {\n",
       "        vertical-align: middle;\n",
       "    }\n",
       "\n",
       "    .dataframe tbody tr th {\n",
       "        vertical-align: top;\n",
       "    }\n",
       "\n",
       "    .dataframe thead th {\n",
       "        text-align: right;\n",
       "    }\n",
       "</style>\n",
       "<table border=\"1\" class=\"dataframe\">\n",
       "  <thead>\n",
       "    <tr style=\"text-align: right;\">\n",
       "      <th></th>\n",
       "      <th>coinbase_btcusd_price</th>\n",
       "    </tr>\n",
       "  </thead>\n",
       "  <tbody>\n",
       "    <tr>\n",
       "      <th>2021-07-19 12:38:20</th>\n",
       "      <td>NaN</td>\n",
       "    </tr>\n",
       "  </tbody>\n",
       "</table>\n",
       "</div>"
      ],
      "text/plain": [
       "                     coinbase_btcusd_price\n",
       "2021-07-19 12:38:20                    NaN"
      ]
     },
     "execution_count": 9,
     "metadata": {},
     "output_type": "execute_result"
    }
   ],
   "source": [
    "pd.DataFrame({ \"coinbase_btcusd_price\": [np.nan] }, index={ pd.to_datetime(1626698300, unit=\"s\") })"
   ]
  },
  {
   "cell_type": "code",
   "execution_count": 10,
   "id": "d444b48c-f640-4c79-b48f-be144b187655",
   "metadata": {},
   "outputs": [
    {
     "data": {
      "text/plain": [
       "Timestamp('2021-07-19 12:24:40', freq='10S')"
      ]
     },
     "execution_count": 10,
     "metadata": {},
     "output_type": "execute_result"
    }
   ],
   "source": [
    "df.index[0]"
   ]
  },
  {
   "cell_type": "code",
   "execution_count": 11,
   "id": "346b97f4-48be-4f13-857b-2496269b495e",
   "metadata": {},
   "outputs": [
    {
     "data": {
      "text/plain": [
       "Timestamp('2021-07-19 12:38:20')"
      ]
     },
     "execution_count": 11,
     "metadata": {},
     "output_type": "execute_result"
    }
   ],
   "source": [
    "pd.to_datetime(pd.to_datetime(1626698300, unit=\"s\"), unit=\"s\")"
   ]
  },
  {
   "cell_type": "code",
   "execution_count": 12,
   "id": "e8380a04-ef4f-429b-9192-ab275aea1df4",
   "metadata": {},
   "outputs": [
    {
     "data": {
      "text/plain": [
       "Timedelta('0 days 00:00:00.010000')"
      ]
     },
     "execution_count": 12,
     "metadata": {},
     "output_type": "execute_result"
    }
   ],
   "source": [
    "pd.to_timedelta(pd.to_timedelta(10, unit=\"ms\"), unit=\"ms\")"
   ]
  },
  {
   "cell_type": "code",
   "execution_count": 13,
   "id": "8d9b1907-35c9-44c1-a25c-ebaab8cdd300",
   "metadata": {},
   "outputs": [
    {
     "data": {
      "text/plain": [
       "True"
      ]
     },
     "execution_count": 13,
     "metadata": {},
     "output_type": "execute_result"
    }
   ],
   "source": [
    "t0 = pd.to_datetime(pd.to_datetime(1626698310, unit=\"s\"), unit=\"s\")\n",
    "t1 = df.index[-1]\n",
    "t0 >= t1"
   ]
  },
  {
   "cell_type": "code",
   "execution_count": 14,
   "id": "8fa4cc7c-ae5f-42cc-97ad-e0f9c04aa59d",
   "metadata": {},
   "outputs": [
    {
     "data": {
      "text/plain": [
       "Timedelta('0 days 00:00:01')"
      ]
     },
     "execution_count": 14,
     "metadata": {},
     "output_type": "execute_result"
    }
   ],
   "source": [
    "pd.to_timedelta(10, unit=\"ms\") * 100"
   ]
  },
  {
   "cell_type": "code",
   "execution_count": 15,
   "id": "3857765a-f32c-45df-adaa-4f4dcf3020ea",
   "metadata": {},
   "outputs": [],
   "source": [
    "current_window = df.iloc[0:10]"
   ]
  },
  {
   "cell_type": "code",
   "execution_count": 16,
   "id": "4bd64340-363f-4655-b87a-14fea94194bf",
   "metadata": {},
   "outputs": [
    {
     "name": "stdout",
     "output_type": "stream",
     "text": [
      "31232.70909090908\n",
      "31249.587142857137\n",
      "31251.882352941182\n",
      "31232.918181818175\n",
      "31229.15692307692\n",
      "31230.817777777775\n",
      "31229.688\n",
      "31223.92636363636\n",
      "31214.111875\n",
      "31215.271250000005\n",
      "0.0\n",
      "0.0\n",
      "0.0\n",
      "0.0\n",
      "0.0\n",
      "0.0\n",
      "0.0\n",
      "0.0\n",
      "0.0\n",
      "0.0\n",
      "100000.0\n",
      "100000.0\n",
      "100000.0\n",
      "100000.0\n",
      "100000.0\n",
      "100000.0\n",
      "100000.0\n",
      "100000.0\n",
      "100000.0\n",
      "100000.0\n"
     ]
    }
   ],
   "source": [
    "for col in current_window:\n",
    "    for row in current_window[col]:\n",
    "        print(row)"
   ]
  },
  {
   "cell_type": "code",
   "execution_count": 17,
   "id": "24cc8fb2-b403-4691-9980-44acebfa52de",
   "metadata": {},
   "outputs": [
    {
     "data": {
      "text/plain": [
       "coinbase_btcusd_price           31232.709091\n",
       "local_portfolio_btc_balance         0.000000\n",
       "local_portfolio_usd_balance    100000.000000\n",
       "Name: 2021-07-19 12:24:40, dtype: float64"
      ]
     },
     "execution_count": 17,
     "metadata": {},
     "output_type": "execute_result"
    }
   ],
   "source": [
    "df.iloc[0]"
   ]
  },
  {
   "cell_type": "code",
   "execution_count": 18,
   "id": "ceff5029-d51f-475b-8c53-0203144cb975",
   "metadata": {},
   "outputs": [
    {
     "data": {
      "text/plain": [
       "True"
      ]
     },
     "execution_count": 18,
     "metadata": {},
     "output_type": "execute_result"
    }
   ],
   "source": [
    "pd.DataFrame().empty"
   ]
  },
  {
   "cell_type": "code",
   "execution_count": null,
   "id": "d889864b-00e4-446d-beeb-f44e9892ccde",
   "metadata": {},
   "outputs": [],
   "source": []
  }
 ],
 "metadata": {
  "kernelspec": {
   "display_name": "Python 3",
   "language": "python",
   "name": "python3"
  },
  "language_info": {
   "codemirror_mode": {
    "name": "ipython",
    "version": 3
   },
   "file_extension": ".py",
   "mimetype": "text/x-python",
   "name": "python",
   "nbconvert_exporter": "python",
   "pygments_lexer": "ipython3",
   "version": "3.7.9"
  }
 },
 "nbformat": 4,
 "nbformat_minor": 5
}
